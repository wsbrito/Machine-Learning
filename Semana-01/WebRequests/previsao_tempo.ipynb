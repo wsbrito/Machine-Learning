{
 "cells": [
  {
   "cell_type": "code",
   "execution_count": 1,
   "metadata": {
    "collapsed": true
   },
   "outputs": [],
   "source": [
    "import requests\n",
    "import json"
   ]
  },
  {
   "cell_type": "code",
   "execution_count": 8,
   "metadata": {},
   "outputs": [],
   "source": [
    "#\"key = 40e54a6c4dc68cfcacd8575aed619e63\"\n",
    "clima_request = requests.get('http://apiadvisor.climatempo.com.br/api/v1/locale/city?name=Curitiba&state=PR&token=40e54a6c4dc68cfcacd8575aed619e63')"
   ]
  },
  {
   "cell_type": "code",
   "execution_count": 9,
   "metadata": {},
   "outputs": [],
   "source": [
    "dict_clima = json.loads(clima_request.text) "
   ]
  },
  {
   "cell_type": "code",
   "execution_count": 10,
   "metadata": {},
   "outputs": [
    {
     "data": {
      "text/plain": [
       "[{'country': 'BR  ', 'id': 6731, 'name': 'Curitiba', 'state': 'PR'}]"
      ]
     },
     "execution_count": 10,
     "metadata": {},
     "output_type": "execute_result"
    }
   ],
   "source": [
    "dict_clima"
   ]
  },
  {
   "cell_type": "code",
   "execution_count": 11,
   "metadata": {
    "collapsed": true
   },
   "outputs": [],
   "source": [
    "clima_request = requests.get('http://apiadvisor.climatempo.com.br/api/v1/weather/locale/6731/current?token=40e54a6c4dc68cfcacd8575aed619e63')\n",
    "dict_clima = json.loads(clima_request.text) "
   ]
  },
  {
   "cell_type": "code",
   "execution_count": 12,
   "metadata": {},
   "outputs": [
    {
     "data": {
      "text/plain": [
       "{'country': 'BR  ',\n",
       " 'data': {'condition': 'Poucas nuvens',\n",
       "  'date': '2018-12-13 18:42:36',\n",
       "  'humidity': 62,\n",
       "  'icon': '2',\n",
       "  'pressure': 1015,\n",
       "  'sensation': 29,\n",
       "  'temperature': 28,\n",
       "  'wind_direction': 'NE',\n",
       "  'wind_velocity': 19},\n",
       " 'id': 6731,\n",
       " 'name': 'Curitiba',\n",
       " 'state': 'PR'}"
      ]
     },
     "execution_count": 12,
     "metadata": {},
     "output_type": "execute_result"
    }
   ],
   "source": [
    "dict_clima"
   ]
  },
  {
   "cell_type": "code",
   "execution_count": null,
   "metadata": {
    "collapsed": true
   },
   "outputs": [],
   "source": []
  }
 ],
 "metadata": {
  "kernelspec": {
   "display_name": "Python 3",
   "language": "python",
   "name": "python3"
  },
  "language_info": {
   "codemirror_mode": {
    "name": "ipython",
    "version": 3
   },
   "file_extension": ".py",
   "mimetype": "text/x-python",
   "name": "python",
   "nbconvert_exporter": "python",
   "pygments_lexer": "ipython3",
   "version": "3.6.1"
  }
 },
 "nbformat": 4,
 "nbformat_minor": 2
}
