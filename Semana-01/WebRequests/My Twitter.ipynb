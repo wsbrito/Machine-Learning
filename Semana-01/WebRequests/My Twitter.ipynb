{
 "cells": [
  {
   "cell_type": "code",
   "execution_count": 3,
   "metadata": {
    "collapsed": true
   },
   "outputs": [],
   "source": [
    "from my_twitter import Twitter"
   ]
  },
  {
   "cell_type": "code",
   "execution_count": 5,
   "metadata": {
    "collapsed": true
   },
   "outputs": [],
   "source": [
    "twitter = Twitter(consumer_key,consumer_secret,token_key,token_secret)"
   ]
  },
  {
   "cell_type": "code",
   "execution_count": 6,
   "metadata": {
    "collapsed": true
   },
   "outputs": [],
   "source": [
    "retorno = twitter.search(query='Cerveja',lang='pt')"
   ]
  },
  {
   "cell_type": "code",
   "execution_count": 8,
   "metadata": {},
   "outputs": [
    {
     "name": "stdout",
     "output_type": "stream",
     "text": [
      "RT @arrombida: cerveja vc fica bêbada por 2 minutos e mija por 2 dias\n",
      "RT @Inaciio_Vitoria: Era só umas cerveja bem gelada p desestressar\n",
      "Amanhã depois da prova vai ser cerveja, ifood e minecraft\n",
      "RT @andressashig: Eu gosto é dos role que toca sertanejo, uns funk bagaceira, cerveja, vodka barata, a gente dança ate com a cadeira, sobe…\n",
      "RT @NarcisoRaissa: Meu corpo pede vitamina C \n",
      "\n",
      "CERVEJA 😍\n",
      "cerveja me dá muito sono 😴\n",
      "tô mole\n",
      "RT @Larissamottaol: So queria praia e uma cerveja gelada!!!\n",
      "RT @arrombida: cerveja vc fica bêbada por 2 minutos e mija por 2 dias\n",
      "@frasesdebebada @ValeNoronha eu e tu chorando no the pub ouvindo cerveja de garrafa\n",
      "Gente como alguém consegue gostar de cerveja namoral\n",
      "mas tinha uma cerveja então to de boa https://t.co/o8WLditr8a\n",
      "Só essa cerveja bem gelada de frente pro mar .. \n",
      "\n",
      "Devido a esse calorzão tá dando pra marca de casa não\n",
      "RT @frasesdebebada: adoro vitamina C:\n",
      "cachaça \n",
      "conhaque\n",
      "chopp \n",
      "caipirinha\n",
      "caipiroska \n",
      "catuaba\n",
      "cerveja\n",
      "RT @whorafaelaa: queria ta num boteco bebendo cerveja estupidamente gelada\n",
      "agora uma puta cerveja gelada\n"
     ]
    }
   ],
   "source": [
    "for r in retorno:\n",
    "    print(r['text'])"
   ]
  },
  {
   "cell_type": "code",
   "execution_count": null,
   "metadata": {
    "collapsed": true
   },
   "outputs": [],
   "source": []
  }
 ],
 "metadata": {
  "kernelspec": {
   "display_name": "Python 3",
   "language": "python",
   "name": "python3"
  },
  "language_info": {
   "codemirror_mode": {
    "name": "ipython",
    "version": 3
   },
   "file_extension": ".py",
   "mimetype": "text/x-python",
   "name": "python",
   "nbconvert_exporter": "python",
   "pygments_lexer": "ipython3",
   "version": "3.6.1"
  }
 },
 "nbformat": 4,
 "nbformat_minor": 2
}
