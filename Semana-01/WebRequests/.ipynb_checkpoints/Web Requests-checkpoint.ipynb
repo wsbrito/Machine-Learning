{
 "cells": [
  {
   "cell_type": "code",
   "execution_count": 10,
   "metadata": {
    "collapsed": true
   },
   "outputs": [],
   "source": [
    "import requests\n",
    "# Vale avaliar a Beautiful Soap 4 para mais recursos de recuperação de HTML\n",
    "# Avaliar as requisições em PustReq (site)"
   ]
  },
  {
   "cell_type": "code",
   "execution_count": 11,
   "metadata": {
    "collapsed": true
   },
   "outputs": [],
   "source": [
    "import json"
   ]
  },
  {
   "cell_type": "code",
   "execution_count": 3,
   "metadata": {
    "collapsed": true
   },
   "outputs": [],
   "source": [
    "requisicao = requests.get('https://bitcointrade.com.br/')"
   ]
  },
  {
   "cell_type": "code",
   "execution_count": 4,
   "metadata": {},
   "outputs": [
    {
     "name": "stdout",
     "output_type": "stream",
     "text": [
      "<Response [200]>\n"
     ]
    }
   ],
   "source": [
    "print(requisicao)"
   ]
  },
  {
   "cell_type": "code",
   "execution_count": 3,
   "metadata": {
    "collapsed": true
   },
   "outputs": [],
   "source": [
    "req_cnpj = requests.get('https://www.receitaws.com.br/v1/cnpj/24782944000126')"
   ]
  },
  {
   "cell_type": "code",
   "execution_count": 10,
   "metadata": {},
   "outputs": [
    {
     "name": "stdout",
     "output_type": "stream",
     "text": [
      "{\n",
      "  \"atividade_principal\": [\n",
      "    {\n",
      "      \"text\": \"Treinamento em desenvolvimento profissional e gerencial\",\n",
      "      \"code\": \"85.99-6-04\"\n",
      "    }\n",
      "  ],\n",
      "  \"data_situacao\": \"12/05/2016\",\n",
      "  \"nome\": \"WAGNER DOS SANTOS BRITO 03714745742\",\n",
      "  \"uf\": \"PR\",\n",
      "  \"telefone\": \"(21) 3637-4459\",\n",
      "  \"email\": \"wsbrito1975@gmail.com\",\n",
      "  \"atividades_secundarias\": [\n",
      "    {\n",
      "      \"text\": \"Serviços de organização de feiras, congressos, exposições e festas\",\n",
      "      \"code\": \"82.30-0-01\"\n",
      "    },\n",
      "    {\n",
      "      \"text\": \"Treinamento em informática\",\n",
      "      \"code\": \"85.99-6-03\"\n",
      "    },\n",
      "    {\n",
      "      \"text\": \"Preparação de documentos e serviços especializados de apoio administrativo não especificados anteriormente\",\n",
      "      \"code\": \"82.19-9-99\"\n",
      "    }\n",
      "  ],\n",
      "  \"qsa\": [],\n",
      "  \"situacao\": \"ATIVA\",\n",
      "  \"bairro\": \"AGUA VERDE\",\n",
      "  \"logradouro\": \"AV AGUA VERDE\",\n",
      "  \"numero\": \"608\",\n",
      "  \"cep\": \"80.620-200\",\n",
      "  \"municipio\": \"CURITIBA\",\n",
      "  \"abertura\": \"12/05/2016\",\n",
      "  \"natureza_juridica\": \"213-5 - Empresário (Individual)\",\n",
      "  \"fantasia\": \"W S BRITO CONSULTORIA\",\n",
      "  \"cnpj\": \"24.782.944/0001-26\",\n",
      "  \"ultima_atualizacao\": \"2018-09-19T03:17:41.707Z\",\n",
      "  \"status\": \"OK\",\n",
      "  \"tipo\": \"MATRIZ\",\n",
      "  \"complemento\": \"\",\n",
      "  \"efr\": \"\",\n",
      "  \"motivo_situacao\": \"\",\n",
      "  \"situacao_especial\": \"\",\n",
      "  \"data_situacao_especial\": \"\",\n",
      "  \"capital_social\": \"1000.00\",\n",
      "  \"extra\": {},\n",
      "  \"billing\": {\n",
      "    \"free\": true,\n",
      "    \"database\": true\n",
      "  }\n",
      "}\n"
     ]
    }
   ],
   "source": [
    "print(req_cnpj.text)"
   ]
  },
  {
   "cell_type": "code",
   "execution_count": 6,
   "metadata": {
    "collapsed": true
   },
   "outputs": [],
   "source": [
    "red_imdb = requests.get('http://www.omdbapi.com/?t=matrix&apikey=c3c7c367')"
   ]
  },
  {
   "cell_type": "code",
   "execution_count": 22,
   "metadata": {
    "collapsed": true
   },
   "outputs": [],
   "source": [
    "red_imdb = requests.get('http://www.omdbapi.com/?s=matrix&apikey=c3c7c367')"
   ]
  },
  {
   "cell_type": "code",
   "execution_count": 7,
   "metadata": {},
   "outputs": [
    {
     "name": "stdout",
     "output_type": "stream",
     "text": [
      "{\"Title\":\"Matrix\",\"Year\":\"1993–\",\"Rated\":\"N/A\",\"Released\":\"01 Mar 1993\",\"Runtime\":\"60 min\",\"Genre\":\"Action, Drama, Fantasy, Thriller\",\"Director\":\"N/A\",\"Writer\":\"Grenville Case\",\"Actors\":\"Nick Mancuso, Phillip Jarrett, Carrie-Anne Moss, John Vernon\",\"Plot\":\"Steven Matrix is one of the underworld's foremost hitmen until his luck runs out, and someone puts a contract out on him. Shot in the forehead by a .22 pistol, Matrix \\\"dies\\\" and finds ...\",\"Language\":\"English\",\"Country\":\"Canada\",\"Awards\":\"1 win.\",\"Poster\":\"https://m.media-amazon.com/images/M/MV5BYzUzOTA5ZTMtMTdlZS00MmQ5LWFmNjEtMjE5MTczN2RjNjE3XkEyXkFqcGdeQXVyNTc2ODIyMzY@._V1_SX300.jpg\",\"Ratings\":[{\"Source\":\"Internet Movie Database\",\"Value\":\"8.2/10\"}],\"Metascore\":\"N/A\",\"imdbRating\":\"8.2\",\"imdbVotes\":\"115\",\"imdbID\":\"tt0106062\",\"Type\":\"series\",\"totalSeasons\":\"N/A\",\"Response\":\"True\"}\n"
     ]
    }
   ],
   "source": [
    "print(red_imdb.text)"
   ]
  },
  {
   "cell_type": "code",
   "execution_count": 24,
   "metadata": {
    "collapsed": true
   },
   "outputs": [],
   "source": [
    "imdb_dict = json.loads(red_imdb.text)"
   ]
  },
  {
   "cell_type": "code",
   "execution_count": 25,
   "metadata": {},
   "outputs": [
    {
     "data": {
      "text/plain": [
       "{'Response': 'True',\n",
       " 'Search': [{'Poster': 'https://m.media-amazon.com/images/M/MV5BNzQzOTk3OTAtNDQ0Zi00ZTVkLWI0MTEtMDllZjNkYzNjNTc4L2ltYWdlXkEyXkFqcGdeQXVyNjU0OTQ0OTY@._V1_SX300.jpg',\n",
       "   'Title': 'The Matrix',\n",
       "   'Type': 'movie',\n",
       "   'Year': '1999',\n",
       "   'imdbID': 'tt0133093'},\n",
       "  {'Poster': 'https://m.media-amazon.com/images/M/MV5BODE0MzZhZTgtYzkwYi00YmI5LThlZWYtOWRmNWE5ODk0NzMxXkEyXkFqcGdeQXVyNjU0OTQ0OTY@._V1_SX300.jpg',\n",
       "   'Title': 'The Matrix Reloaded',\n",
       "   'Type': 'movie',\n",
       "   'Year': '2003',\n",
       "   'imdbID': 'tt0234215'},\n",
       "  {'Poster': 'https://m.media-amazon.com/images/M/MV5BNzNlZTZjMDctZjYwNi00NzljLWIwN2QtZWZmYmJiYzQ0MTk2XkEyXkFqcGdeQXVyNTAyODkwOQ@@._V1_SX300.jpg',\n",
       "   'Title': 'The Matrix Revolutions',\n",
       "   'Type': 'movie',\n",
       "   'Year': '2003',\n",
       "   'imdbID': 'tt0242653'},\n",
       "  {'Poster': 'https://m.media-amazon.com/images/M/MV5BMTIzMTA4NDI4NF5BMl5BanBnXkFtZTYwNjg5Nzg4._V1_SX300.jpg',\n",
       "   'Title': 'The Matrix Revisited',\n",
       "   'Type': 'movie',\n",
       "   'Year': '2001',\n",
       "   'imdbID': 'tt0295432'},\n",
       "  {'Poster': 'http://ia.media-imdb.com/images/M/MV5BMjA4NTYwNjk0M15BMl5BanBnXkFtZTgwODk3MDMwMTE@._V1_SX300.jpg',\n",
       "   'Title': 'Enter the Matrix',\n",
       "   'Type': 'game',\n",
       "   'Year': '2003',\n",
       "   'imdbID': 'tt0277828'},\n",
       "  {'Poster': 'http://ia.media-imdb.com/images/M/MV5BYWM2ZWU5MDUtYTU2ZS00ZDFmLWIyNGEtNWZkMjRmZjI2YzMzXkEyXkFqcGdeQXVyMTA1OTEwNjE@._V1_SX300.jpg',\n",
       "   'Title': 'The Matrix: Path of Neo',\n",
       "   'Type': 'game',\n",
       "   'Year': '2005',\n",
       "   'imdbID': 'tt0451118'},\n",
       "  {'Poster': 'https://images-na.ssl-images-amazon.com/images/M/MV5BOTUwOTY3Mjg1MF5BMl5BanBnXkFtZTcwODI2MTAyMQ@@._V1_SX300.jpg',\n",
       "   'Title': 'Armitage III: Dual Matrix',\n",
       "   'Type': 'movie',\n",
       "   'Year': '2002',\n",
       "   'imdbID': 'tt0303678'},\n",
       "  {'Poster': 'http://ia.media-imdb.com/images/M/MV5BMTExMzY3NTQ1NjleQTJeQWpwZ15BbWU3MDAyMjk2NzM@._V1_SX300.jpg',\n",
       "   'Title': 'CR: Enter the Matrix',\n",
       "   'Type': 'game',\n",
       "   'Year': '2009',\n",
       "   'imdbID': 'tt1675286'},\n",
       "  {'Poster': 'N/A',\n",
       "   'Title': 'Sex and the Matrix',\n",
       "   'Type': 'movie',\n",
       "   'Year': '2000',\n",
       "   'imdbID': 'tt0274085'},\n",
       "  {'Poster': 'https://images-na.ssl-images-amazon.com/images/M/MV5BMGZiNzdmYWUtZTY0ZS00ZGU4LWE1NDgtNTNkZWM3MzQ0NDY4L2ltYWdlL2ltYWdlXkEyXkFqcGdeQXVyMjIzMDAwOTc@._V1_SX300.jpg',\n",
       "   'Title': 'Buhera mátrix',\n",
       "   'Type': 'movie',\n",
       "   'Year': '2007',\n",
       "   'imdbID': 'tt0970173'}],\n",
       " 'totalResults': '94'}"
      ]
     },
     "execution_count": 25,
     "metadata": {},
     "output_type": "execute_result"
    }
   ],
   "source": [
    "imdb_dict"
   ]
  },
  {
   "cell_type": "code",
   "execution_count": 21,
   "metadata": {},
   "outputs": [
    {
     "name": "stdout",
     "output_type": "stream",
     "text": [
      "Converteu!\n"
     ]
    }
   ],
   "source": [
    "if imdb_dict['Response']:\n",
    "    print('Converteu!')\n",
    "else:\n",
    "    print('Babou :-(')"
   ]
  },
  {
   "cell_type": "code",
   "execution_count": 26,
   "metadata": {
    "collapsed": true
   },
   "outputs": [],
   "source": [
    "dict_search = imdb_dict['Search']"
   ]
  },
  {
   "cell_type": "code",
   "execution_count": 29,
   "metadata": {},
   "outputs": [
    {
     "data": {
      "text/plain": [
       "list"
      ]
     },
     "execution_count": 29,
     "metadata": {},
     "output_type": "execute_result"
    }
   ],
   "source": [
    "type(dict_search)"
   ]
  },
  {
   "cell_type": "code",
   "execution_count": 34,
   "metadata": {},
   "outputs": [
    {
     "name": "stdout",
     "output_type": "stream",
     "text": [
      "1ª execucao\n",
      "2ª execucao\n",
      "3ª execucao\n",
      "4ª execucao\n",
      "5ª execucao\n",
      "6ª execucao\n",
      "7ª execucao\n",
      "8ª execucao\n",
      "9ª execucao\n",
      "10ª execucao\n",
      "11ª execucao\n"
     ]
    }
   ],
   "source": [
    "pagina = 1\n",
    "dict_search = list()\n",
    "continuar = True\n",
    "while continuar:\n",
    "    \n",
    "    print(str(pagina)+'ª execucao')\n",
    "    \n",
    "    # Efetuo a requisicao\n",
    "    red_imdb = requests.get('http://www.omdbapi.com/?s=matrix&apikey=c3c7c367&page='+str(pagina))\n",
    "    \n",
    "    # converto em JSon\n",
    "    imdb_dict = json.loads(red_imdb.text)\n",
    "    \n",
    "    continuar = (imdb_dict['Response'] == 'True')\n",
    "    \n",
    "    if continuar:\n",
    "        dict_search.append(imdb_dict['Search'])\n",
    "        \n",
    "    pagina += 1"
   ]
  },
  {
   "cell_type": "code",
   "execution_count": 35,
   "metadata": {},
   "outputs": [
    {
     "data": {
      "text/plain": [
       "10"
      ]
     },
     "execution_count": 35,
     "metadata": {},
     "output_type": "execute_result"
    }
   ],
   "source": [
    "len(dict_search)"
   ]
  },
  {
   "cell_type": "code",
   "execution_count": 36,
   "metadata": {},
   "outputs": [
    {
     "data": {
      "text/plain": [
       "[{'Poster': 'https://m.media-amazon.com/images/M/MV5BNzQzOTk3OTAtNDQ0Zi00ZTVkLWI0MTEtMDllZjNkYzNjNTc4L2ltYWdlXkEyXkFqcGdeQXVyNjU0OTQ0OTY@._V1_SX300.jpg',\n",
       "  'Title': 'The Matrix',\n",
       "  'Type': 'movie',\n",
       "  'Year': '1999',\n",
       "  'imdbID': 'tt0133093'},\n",
       " {'Poster': 'https://m.media-amazon.com/images/M/MV5BODE0MzZhZTgtYzkwYi00YmI5LThlZWYtOWRmNWE5ODk0NzMxXkEyXkFqcGdeQXVyNjU0OTQ0OTY@._V1_SX300.jpg',\n",
       "  'Title': 'The Matrix Reloaded',\n",
       "  'Type': 'movie',\n",
       "  'Year': '2003',\n",
       "  'imdbID': 'tt0234215'},\n",
       " {'Poster': 'https://m.media-amazon.com/images/M/MV5BNzNlZTZjMDctZjYwNi00NzljLWIwN2QtZWZmYmJiYzQ0MTk2XkEyXkFqcGdeQXVyNTAyODkwOQ@@._V1_SX300.jpg',\n",
       "  'Title': 'The Matrix Revolutions',\n",
       "  'Type': 'movie',\n",
       "  'Year': '2003',\n",
       "  'imdbID': 'tt0242653'},\n",
       " {'Poster': 'https://m.media-amazon.com/images/M/MV5BMTIzMTA4NDI4NF5BMl5BanBnXkFtZTYwNjg5Nzg4._V1_SX300.jpg',\n",
       "  'Title': 'The Matrix Revisited',\n",
       "  'Type': 'movie',\n",
       "  'Year': '2001',\n",
       "  'imdbID': 'tt0295432'},\n",
       " {'Poster': 'http://ia.media-imdb.com/images/M/MV5BMjA4NTYwNjk0M15BMl5BanBnXkFtZTgwODk3MDMwMTE@._V1_SX300.jpg',\n",
       "  'Title': 'Enter the Matrix',\n",
       "  'Type': 'game',\n",
       "  'Year': '2003',\n",
       "  'imdbID': 'tt0277828'},\n",
       " {'Poster': 'http://ia.media-imdb.com/images/M/MV5BYWM2ZWU5MDUtYTU2ZS00ZDFmLWIyNGEtNWZkMjRmZjI2YzMzXkEyXkFqcGdeQXVyMTA1OTEwNjE@._V1_SX300.jpg',\n",
       "  'Title': 'The Matrix: Path of Neo',\n",
       "  'Type': 'game',\n",
       "  'Year': '2005',\n",
       "  'imdbID': 'tt0451118'},\n",
       " {'Poster': 'https://images-na.ssl-images-amazon.com/images/M/MV5BOTUwOTY3Mjg1MF5BMl5BanBnXkFtZTcwODI2MTAyMQ@@._V1_SX300.jpg',\n",
       "  'Title': 'Armitage III: Dual Matrix',\n",
       "  'Type': 'movie',\n",
       "  'Year': '2002',\n",
       "  'imdbID': 'tt0303678'},\n",
       " {'Poster': 'http://ia.media-imdb.com/images/M/MV5BMTExMzY3NTQ1NjleQTJeQWpwZ15BbWU3MDAyMjk2NzM@._V1_SX300.jpg',\n",
       "  'Title': 'CR: Enter the Matrix',\n",
       "  'Type': 'game',\n",
       "  'Year': '2009',\n",
       "  'imdbID': 'tt1675286'},\n",
       " {'Poster': 'N/A',\n",
       "  'Title': 'Sex and the Matrix',\n",
       "  'Type': 'movie',\n",
       "  'Year': '2000',\n",
       "  'imdbID': 'tt0274085'},\n",
       " {'Poster': 'https://images-na.ssl-images-amazon.com/images/M/MV5BMGZiNzdmYWUtZTY0ZS00ZGU4LWE1NDgtNTNkZWM3MzQ0NDY4L2ltYWdlL2ltYWdlXkEyXkFqcGdeQXVyMjIzMDAwOTc@._V1_SX300.jpg',\n",
       "  'Title': 'Buhera mátrix',\n",
       "  'Type': 'movie',\n",
       "  'Year': '2007',\n",
       "  'imdbID': 'tt0970173'}]"
      ]
     },
     "execution_count": 36,
     "metadata": {},
     "output_type": "execute_result"
    }
   ],
   "source": [
    "dict_search[0]"
   ]
  },
  {
   "cell_type": "code",
   "execution_count": 3,
   "metadata": {
    "collapsed": true
   },
   "outputs": [],
   "source": [
    "cot_dolar = requests.get('https://olinda.bcb.gov.br/olinda/servico/PTAX/versao/v1/odata/CotacaoDolarDia?$format=json')\n"
   ]
  },
  {
   "cell_type": "code",
   "execution_count": 5,
   "metadata": {},
   "outputs": [
    {
     "data": {
      "text/plain": [
       "<Response [500]>"
      ]
     },
     "execution_count": 5,
     "metadata": {},
     "output_type": "execute_result"
    }
   ],
   "source": [
    "cot_dolar"
   ]
  },
  {
   "cell_type": "code",
   "execution_count": 8,
   "metadata": {
    "collapsed": true
   },
   "outputs": [],
   "source": [
    "dolar_request = requests.get('http://api.promasters.net.br/cotacao/v1/valores')"
   ]
  },
  {
   "cell_type": "code",
   "execution_count": 9,
   "metadata": {},
   "outputs": [
    {
     "data": {
      "text/plain": [
       "'<!DOCTYPE HTML PUBLIC \"-//IETF//DTD HTML 2.0//EN\">\\n<html><head>\\n<title>403 Forbidden</title>\\n</head><body>\\n<h1>Forbidden</h1>\\n<p>You don\\'t have permission to access /cotacao/v1/valores\\non this server.<br />\\n</p>\\n<p>Additionally, a 403 Forbidden\\nerror was encountered while trying to use an ErrorDocument to handle the request.</p>\\n</body></html>\\n'"
      ]
     },
     "execution_count": 9,
     "metadata": {},
     "output_type": "execute_result"
    }
   ],
   "source": [
    "dolar_request.text"
   ]
  },
  {
   "cell_type": "markdown",
   "metadata": {},
   "source": [
    "# Interação com Twiter"
   ]
  },
  {
   "cell_type": "code",
   "execution_count": 12,
   "metadata": {
    "collapsed": true
   },
   "outputs": [],
   "source": [
    "\"\"\"\n",
    "60KgTwtuekhCgeu1UlxLMHcQk(API key)\n",
    "\n",
    "pAPX4lauz5zxQHuOqq6yrbAXBNYrzcAeiYl1QsuLuoqU9rURGa (API secret key)\n",
    "\n",
    "1073325259271606273-4piaITZHIuwJbgRJHUyHbT1m2zwjdR (Access token)\n",
    "\n",
    "jp9ujnuq5iNM9kdjIrfwe3XoJ9rqtQAge6SlJ6bJSxdTd (Access token secret)\n",
    "\"\"\"\n",
    "import oauth2"
   ]
  },
  {
   "cell_type": "code",
   "execution_count": 13,
   "metadata": {
    "collapsed": true
   },
   "outputs": [],
   "source": [
    "consumer = oauth2.Consumer('60KgTwtuekhCgeu1UlxLMHcQk','pAPX4lauz5zxQHuOqq6yrbAXBNYrzcAeiYl1QsuLuoqU9rURGa')"
   ]
  },
  {
   "cell_type": "code",
   "execution_count": 14,
   "metadata": {
    "collapsed": true
   },
   "outputs": [],
   "source": [
    "token = oauth2.Token('1073325259271606273-4piaITZHIuwJbgRJHUyHbT1m2zwjdR','jp9ujnuq5iNM9kdjIrfwe3XoJ9rqtQAge6SlJ6bJSxdTd')"
   ]
  },
  {
   "cell_type": "code",
   "execution_count": 15,
   "metadata": {
    "collapsed": true
   },
   "outputs": [],
   "source": [
    "cliente = oauth2.Client(consumer=consumer,token=token)"
   ]
  },
  {
   "cell_type": "code",
   "execution_count": 19,
   "metadata": {
    "collapsed": true
   },
   "outputs": [],
   "source": [
    "request = cliente.request('https://api.twitter.com/1.1/search/tweets.json?q=cerveja')"
   ]
  },
  {
   "cell_type": "code",
   "execution_count": 23,
   "metadata": {},
   "outputs": [
    {
     "data": {
      "text/plain": [
       "({'-content-encoding': 'gzip',\n",
       "  'cache-control': 'no-cache, no-store, must-revalidate, pre-check=0, post-check=0',\n",
       "  'content-disposition': 'attachment; filename=json.json',\n",
       "  'content-length': '31485',\n",
       "  'content-location': 'https://api.twitter.com/1.1/search/tweets.json?q=cerveja&oauth_consumer_key=60KgTwtuekhCgeu1UlxLMHcQk&oauth_timestamp=1544737708&oauth_nonce=57273245&oauth_version=1.0&oauth_token=1073325259271606273-4piaITZHIuwJbgRJHUyHbT1m2zwjdR&oauth_body_hash=2jmj7l5rSw0yVb%2FvlWAYkK%2FYBwk%3D&oauth_signature_method=HMAC-SHA1&oauth_signature=dOm%2BADqqOVRfZ3%2F7cYWIJRtyfcU%3D',\n",
       "  'content-type': 'application/json;charset=utf-8',\n",
       "  'date': 'Thu, 13 Dec 2018 21:48:28 GMT',\n",
       "  'expires': 'Tue, 31 Mar 1981 05:00:00 GMT',\n",
       "  'last-modified': 'Thu, 13 Dec 2018 21:48:28 GMT',\n",
       "  'pragma': 'no-cache',\n",
       "  'server': 'tsa_d',\n",
       "  'set-cookie': 'personalization_id=\"v1_/Fk4FUPxoiRwC0CPTmXyQA==\"; Max-Age=63072000; Expires=Sat, 12 Dec 2020 21:48:28 GMT; Path=/; Domain=.twitter.com, lang=en; Path=/, guest_id=v1%3A154473770876438585; Max-Age=63072000; Expires=Sat, 12 Dec 2020 21:48:28 GMT; Path=/; Domain=.twitter.com',\n",
       "  'status': '200',\n",
       "  'strict-transport-security': 'max-age=631138519',\n",
       "  'x-access-level': 'read-write',\n",
       "  'x-connection-hash': 'ac4cfd8d3ab4a2df753017e050d20ff9',\n",
       "  'x-content-type-options': 'nosniff',\n",
       "  'x-frame-options': 'SAMEORIGIN',\n",
       "  'x-rate-limit-limit': '180',\n",
       "  'x-rate-limit-remaining': '178',\n",
       "  'x-rate-limit-reset': '1544738541',\n",
       "  'x-response-time': '209',\n",
       "  'x-transaction': '0016dee6000e7277',\n",
       "  'x-twitter-response-tags': 'BouncerCompliant',\n",
       "  'x-xss-protection': '1; mode=block; report=https://twitter.com/i/xss_report'},\n",
       " b'{\"statuses\":[{\"created_at\":\"Thu Dec 13 21:48:12 +0000 2018\",\"id\":1073333793518428161,\"id_str\":\"1073333793518428161\",\"text\":\"s\\\\u00f3 queria fumar um nargs tomando uma cerveja bem geladinha com uma certa pessoa a\\\\u00ed\",\"truncated\":false,\"entities\":{\"hashtags\":[],\"symbols\":[],\"user_mentions\":[],\"urls\":[]},\"metadata\":{\"iso_language_code\":\"pt\",\"result_type\":\"recent\"},\"source\":\"\\\\u003ca href=\\\\\"http:\\\\/\\\\/twitter.com\\\\/download\\\\/android\\\\\" rel=\\\\\"nofollow\\\\\"\\\\u003eTwitter for Android\\\\u003c\\\\/a\\\\u003e\",\"in_reply_to_status_id\":null,\"in_reply_to_status_id_str\":null,\"in_reply_to_user_id\":null,\"in_reply_to_user_id_str\":null,\"in_reply_to_screen_name\":null,\"user\":{\"id\":866816267164037124,\"id_str\":\"866816267164037124\",\"name\":\"Mauro Douglas\",\"screen_name\":\"crlh_mauru\",\"location\":\"querendo te beijar \",\"description\":\"Brota a\\\\u00ed  .. @Flamengo\\\\u2764\",\"url\":null,\"entities\":{\"description\":{\"urls\":[]}},\"protected\":false,\"followers_count\":1247,\"friends_count\":624,\"listed_count\":0,\"created_at\":\"Tue May 23 00:41:17 +0000 2017\",\"favourites_count\":6138,\"utc_offset\":null,\"time_zone\":null,\"geo_enabled\":true,\"verified\":false,\"statuses_count\":8732,\"lang\":\"pt\",\"contributors_enabled\":false,\"is_translator\":false,\"is_translation_enabled\":false,\"profile_background_color\":\"F5F8FA\",\"profile_background_image_url\":null,\"profile_background_image_url_https\":null,\"profile_background_tile\":false,\"profile_image_url\":\"http:\\\\/\\\\/pbs.twimg.com\\\\/profile_images\\\\/1073018710661709825\\\\/kK6LN_Sz_normal.jpg\",\"profile_image_url_https\":\"https:\\\\/\\\\/pbs.twimg.com\\\\/profile_images\\\\/1073018710661709825\\\\/kK6LN_Sz_normal.jpg\",\"profile_banner_url\":\"https:\\\\/\\\\/pbs.twimg.com\\\\/profile_banners\\\\/866816267164037124\\\\/1535079216\",\"profile_link_color\":\"1DA1F2\",\"profile_sidebar_border_color\":\"C0DEED\",\"profile_sidebar_fill_color\":\"DDEEF6\",\"profile_text_color\":\"333333\",\"profile_use_background_image\":true,\"has_extended_profile\":false,\"default_profile\":true,\"default_profile_image\":false,\"following\":false,\"follow_request_sent\":false,\"notifications\":false,\"translator_type\":\"none\"},\"geo\":null,\"coordinates\":null,\"place\":{\"id\":\"76392fa31079d236\",\"url\":\"https:\\\\/\\\\/api.twitter.com\\\\/1.1\\\\/geo\\\\/id\\\\/76392fa31079d236.json\",\"place_type\":\"city\",\"name\":\"Maring\\\\u00e1\",\"full_name\":\"Maring\\\\u00e1, Brasil\",\"country_code\":\"BR\",\"country\":\"Brazil\",\"contained_within\":[],\"bounding_box\":{\"type\":\"Polygon\",\"coordinates\":[[[-52.101196,-23.558014],[-51.835462,-23.558014],[-51.835462,-23.2536307],[-52.101196,-23.2536307]]]},\"attributes\":{}},\"contributors\":null,\"is_quote_status\":false,\"retweet_count\":0,\"favorite_count\":0,\"favorited\":false,\"retweeted\":false,\"lang\":\"pt\"},{\"created_at\":\"Thu Dec 13 21:48:07 +0000 2018\",\"id\":1073333773641637890,\"id_str\":\"1073333773641637890\",\"text\":\"RT @EFG__: E a cerveja pra hj\",\"truncated\":false,\"entities\":{\"hashtags\":[],\"symbols\":[],\"user_mentions\":[{\"screen_name\":\"EFG__\",\"name\":\"\\\\ud83e\\\\udd37\\\\ud83c\\\\udffd\\\\u200d\\\\u2642\\\\ufe0f\",\"id\":468506871,\"id_str\":\"468506871\",\"indices\":[3,9]}],\"urls\":[]},\"metadata\":{\"iso_language_code\":\"pt\",\"result_type\":\"recent\"},\"source\":\"\\\\u003ca href=\\\\\"http:\\\\/\\\\/twitter.com\\\\/download\\\\/iphone\\\\\" rel=\\\\\"nofollow\\\\\"\\\\u003eTwitter for iPhone\\\\u003c\\\\/a\\\\u003e\",\"in_reply_to_status_id\":null,\"in_reply_to_status_id_str\":null,\"in_reply_to_user_id\":null,\"in_reply_to_user_id_str\":null,\"in_reply_to_screen_name\":null,\"user\":{\"id\":1024306704266272768,\"id_str\":\"1024306704266272768\",\"name\":\"Emy\",\"screen_name\":\"Emily_aquii\",\"location\":\"Snap:vish_loirinha\",\"description\":\"\\\\ud83c\\\\udf08\\\\ud83c\\\\udf44\\\\ud83d\\\\udd49\",\"url\":null,\"entities\":{\"description\":{\"urls\":[]}},\"protected\":false,\"followers_count\":116,\"friends_count\":233,\"listed_count\":0,\"created_at\":\"Tue Jul 31 14:52:03 +0000 2018\",\"favourites_count\":703,\"utc_offset\":null,\"time_zone\":null,\"geo_enabled\":true,\"verified\":false,\"statuses_count\":1394,\"lang\":\"en\",\"contributors_enabled\":false,\"is_translator\":false,\"is_translation_enabled\":false,\"profile_background_color\":\"F5F8FA\",\"profile_background_image_url\":null,\"profile_background_image_url_https\":null,\"profile_background_tile\":false,\"profile_image_url\":\"http:\\\\/\\\\/pbs.twimg.com\\\\/profile_images\\\\/1072023105315463169\\\\/g-7dmUaK_normal.jpg\",\"profile_image_url_https\":\"https:\\\\/\\\\/pbs.twimg.com\\\\/profile_images\\\\/1072023105315463169\\\\/g-7dmUaK_normal.jpg\",\"profile_link_color\":\"1DA1F2\",\"profile_sidebar_border_color\":\"C0DEED\",\"profile_sidebar_fill_color\":\"DDEEF6\",\"profile_text_color\":\"333333\",\"profile_use_background_image\":true,\"has_extended_profile\":false,\"default_profile\":true,\"default_profile_image\":false,\"following\":false,\"follow_request_sent\":false,\"notifications\":false,\"translator_type\":\"none\"},\"geo\":null,\"coordinates\":null,\"place\":null,\"contributors\":null,\"retweeted_status\":{\"created_at\":\"Thu Dec 13 20:35:28 +0000 2018\",\"id\":1073315491018665985,\"id_str\":\"1073315491018665985\",\"text\":\"E a cerveja pra hj\",\"truncated\":false,\"entities\":{\"hashtags\":[],\"symbols\":[],\"user_mentions\":[],\"urls\":[]},\"metadata\":{\"iso_language_code\":\"pt\",\"result_type\":\"recent\"},\"source\":\"\\\\u003ca href=\\\\\"http:\\\\/\\\\/twitter.com\\\\/download\\\\/iphone\\\\\" rel=\\\\\"nofollow\\\\\"\\\\u003eTwitter for iPhone\\\\u003c\\\\/a\\\\u003e\",\"in_reply_to_status_id\":null,\"in_reply_to_status_id_str\":null,\"in_reply_to_user_id\":null,\"in_reply_to_user_id_str\":null,\"in_reply_to_screen_name\":null,\"user\":{\"id\":468506871,\"id_str\":\"468506871\",\"name\":\"\\\\ud83e\\\\udd37\\\\ud83c\\\\udffd\\\\u200d\\\\u2642\\\\ufe0f\",\"screen_name\":\"EFG__\",\"location\":\"\",\"description\":\"Snap :EmanoelFg\",\"url\":\"https:\\\\/\\\\/t.co\\\\/XTx1z75STf\",\"entities\":{\"url\":{\"urls\":[{\"url\":\"https:\\\\/\\\\/t.co\\\\/XTx1z75STf\",\"expanded_url\":\"https:\\\\/\\\\/curiouscat.me\\\\/EFG__\",\"display_url\":\"curiouscat.me\\\\/EFG__\",\"indices\":[0,23]}]},\"description\":{\"urls\":[]}},\"protected\":false,\"followers_count\":880,\"friends_count\":233,\"listed_count\":1,\"created_at\":\"Thu Jan 19 16:24:56 +0000 2012\",\"favourites_count\":17809,\"utc_offset\":null,\"time_zone\":null,\"geo_enabled\":true,\"verified\":false,\"statuses_count\":105923,\"lang\":\"pt\",\"contributors_enabled\":false,\"is_translator\":false,\"is_translation_enabled\":false,\"profile_background_color\":\"131516\",\"profile_background_image_url\":\"http:\\\\/\\\\/abs.twimg.com\\\\/images\\\\/themes\\\\/theme14\\\\/bg.gif\",\"profile_background_image_url_https\":\"https:\\\\/\\\\/abs.twimg.com\\\\/images\\\\/themes\\\\/theme14\\\\/bg.gif\",\"profile_background_tile\":true,\"profile_image_url\":\"http:\\\\/\\\\/pbs.twimg.com\\\\/profile_images\\\\/1072141220556738561\\\\/y5YimNwz_normal.jpg\",\"profile_image_url_https\":\"https:\\\\/\\\\/pbs.twimg.com\\\\/profile_images\\\\/1072141220556738561\\\\/y5YimNwz_normal.jpg\",\"profile_banner_url\":\"https:\\\\/\\\\/pbs.twimg.com\\\\/profile_banners\\\\/468506871\\\\/1544048574\",\"profile_link_color\":\"ABB8C2\",\"profile_sidebar_border_color\":\"EEEEEE\",\"profile_sidebar_fill_color\":\"EFEFEF\",\"profile_text_color\":\"333333\",\"profile_use_background_image\":true,\"has_extended_profile\":true,\"default_profile\":false,\"default_profile_image\":false,\"following\":false,\"follow_request_sent\":false,\"notifications\":false,\"translator_type\":\"none\"},\"geo\":null,\"coordinates\":null,\"place\":null,\"contributors\":null,\"is_quote_status\":false,\"retweet_count\":1,\"favorite_count\":0,\"favorited\":false,\"retweeted\":false,\"lang\":\"pt\"},\"is_quote_status\":false,\"retweet_count\":1,\"favorite_count\":0,\"favorited\":false,\"retweeted\":false,\"lang\":\"pt\"},{\"created_at\":\"Thu Dec 13 21:48:06 +0000 2018\",\"id\":1073333768784633857,\"id_str\":\"1073333768784633857\",\"text\":\"Vcs tinham que ver minha saga pra abrir cerveja, fui em todos os aps achar abridor\",\"truncated\":false,\"entities\":{\"hashtags\":[],\"symbols\":[],\"user_mentions\":[],\"urls\":[]},\"metadata\":{\"iso_language_code\":\"pt\",\"result_type\":\"recent\"},\"source\":\"\\\\u003ca href=\\\\\"http:\\\\/\\\\/twitter.com\\\\/download\\\\/iphone\\\\\" rel=\\\\\"nofollow\\\\\"\\\\u003eTwitter for iPhone\\\\u003c\\\\/a\\\\u003e\",\"in_reply_to_status_id\":null,\"in_reply_to_status_id_str\":null,\"in_reply_to_user_id\":null,\"in_reply_to_user_id_str\":null,\"in_reply_to_screen_name\":null,\"user\":{\"id\":491385592,\"id_str\":\"491385592\",\"name\":\"Nati Benini\",\"screen_name\":\"naatiBenini\",\"location\":\"\",\"description\":\"Ela \\\\u00e9 morena, e sabe o peso que isso tem!\",\"url\":null,\"entities\":{\"description\":{\"urls\":[]}},\"protected\":false,\"followers_count\":342,\"friends_count\":225,\"listed_count\":0,\"created_at\":\"Mon Feb 13 15:42:09 +0000 2012\",\"favourites_count\":3913,\"utc_offset\":null,\"time_zone\":null,\"geo_enabled\":true,\"verified\":false,\"statuses_count\":16892,\"lang\":\"pt\",\"contributors_enabled\":false,\"is_translator\":false,\"is_translation_enabled\":false,\"profile_background_color\":\"DBE9ED\",\"profile_background_image_url\":\"http:\\\\/\\\\/abs.twimg.com\\\\/images\\\\/themes\\\\/theme17\\\\/bg.gif\",\"profile_background_image_url_https\":\"https:\\\\/\\\\/abs.twimg.com\\\\/images\\\\/themes\\\\/theme17\\\\/bg.gif\",\"profile_background_tile\":true,\"profile_image_url\":\"http:\\\\/\\\\/pbs.twimg.com\\\\/profile_images\\\\/1006343892613124096\\\\/SKY5k753_normal.jpg\",\"profile_image_url_https\":\"https:\\\\/\\\\/pbs.twimg.com\\\\/profile_images\\\\/1006343892613124096\\\\/SKY5k753_normal.jpg\",\"profile_banner_url\":\"https:\\\\/\\\\/pbs.twimg.com\\\\/profile_banners\\\\/491385592\\\\/1426104304\",\"profile_link_color\":\"DD2E44\",\"profile_sidebar_border_color\":\"FFFFFF\",\"profile_sidebar_fill_color\":\"E6F6F9\",\"profile_text_color\":\"333333\",\"profile_use_background_image\":true,\"has_extended_profile\":true,\"default_profile\":false,\"default_profile_image\":false,\"following\":false,\"follow_request_sent\":false,\"notifications\":false,\"translator_type\":\"none\"},\"geo\":null,\"coordinates\":null,\"place\":null,\"contributors\":null,\"is_quote_status\":false,\"retweet_count\":0,\"favorite_count\":0,\"favorited\":false,\"retweeted\":false,\"lang\":\"pt\"},{\"created_at\":\"Thu Dec 13 21:47:53 +0000 2018\",\"id\":1073333712132210688,\"id_str\":\"1073333712132210688\",\"text\":\"E o med\\\\u00e3o de passar vergonha na festa da empresa com aquele tanto de cerveja que tem l\\\\u00e1 kkkkkkkkkk\",\"truncated\":false,\"entities\":{\"hashtags\":[],\"symbols\":[],\"user_mentions\":[],\"urls\":[]},\"metadata\":{\"iso_language_code\":\"pt\",\"result_type\":\"recent\"},\"source\":\"\\\\u003ca href=\\\\\"http:\\\\/\\\\/twitter.com\\\\/download\\\\/iphone\\\\\" rel=\\\\\"nofollow\\\\\"\\\\u003eTwitter for iPhone\\\\u003c\\\\/a\\\\u003e\",\"in_reply_to_status_id\":null,\"in_reply_to_status_id_str\":null,\"in_reply_to_user_id\":null,\"in_reply_to_user_id_str\":null,\"in_reply_to_screen_name\":null,\"user\":{\"id\":244487726,\"id_str\":\"244487726\",\"name\":\"Dudu\",\"screen_name\":\"DuduuB\",\"location\":\"Bras\\\\u00f3polis, Brasil\",\"description\":\"Sertanejeiro assumido, Corinthiano roxo e vagabundo nas horas vagas! conhecido por sofrer\",\"url\":null,\"entities\":{\"description\":{\"urls\":[]}},\"protected\":false,\"followers_count\":799,\"friends_count\":294,\"listed_count\":2,\"created_at\":\"Sat Jan 29 12:23:43 +0000 2011\",\"favourites_count\":7848,\"utc_offset\":null,\"time_zone\":null,\"geo_enabled\":true,\"verified\":false,\"statuses_count\":44760,\"lang\":\"pt\",\"contributors_enabled\":false,\"is_translator\":false,\"is_translation_enabled\":false,\"profile_background_color\":\"338CB8\",\"profile_background_image_url\":\"http:\\\\/\\\\/abs.twimg.com\\\\/images\\\\/themes\\\\/theme14\\\\/bg.gif\",\"profile_background_image_url_https\":\"https:\\\\/\\\\/abs.twimg.com\\\\/images\\\\/themes\\\\/theme14\\\\/bg.gif\",\"profile_background_tile\":true,\"profile_image_url\":\"http:\\\\/\\\\/pbs.twimg.com\\\\/profile_images\\\\/1069743855057207296\\\\/nVuqbeG2_normal.jpg\",\"profile_image_url_https\":\"https:\\\\/\\\\/pbs.twimg.com\\\\/profile_images\\\\/1069743855057207296\\\\/nVuqbeG2_normal.jpg\",\"profile_banner_url\":\"https:\\\\/\\\\/pbs.twimg.com\\\\/profile_banners\\\\/244487726\\\\/1523320471\",\"profile_link_color\":\"060806\",\"profile_sidebar_border_color\":\"FFFFFF\",\"profile_sidebar_fill_color\":\"EFEFEF\",\"profile_text_color\":\"333333\",\"profile_use_background_image\":true,\"has_extended_profile\":true,\"default_profile\":false,\"default_profile_image\":false,\"following\":false,\"follow_request_sent\":false,\"notifications\":false,\"translator_type\":\"regular\"},\"geo\":null,\"coordinates\":null,\"place\":{\"id\":\"1f9f73dd9e439a34\",\"url\":\"https:\\\\/\\\\/api.twitter.com\\\\/1.1\\\\/geo\\\\/id\\\\/1f9f73dd9e439a34.json\",\"place_type\":\"city\",\"name\":\"Santa Rita do Sapuca\\\\u00ed\",\"full_name\":\"Santa Rita do Sapuca\\\\u00ed, Brasil\",\"country_code\":\"BR\",\"country\":\"Brazil\",\"contained_within\":[],\"bounding_box\":{\"type\":\"Polygon\",\"coordinates\":[[[-45.8552283,-22.3229319],[-45.518445,-22.3229319],[-45.518445,-22.15869],[-45.8552283,-22.15869]]]},\"attributes\":{}},\"contributors\":null,\"is_quote_status\":false,\"retweet_count\":0,\"favorite_count\":0,\"favorited\":false,\"retweeted\":false,\"lang\":\"pt\"},{\"created_at\":\"Thu Dec 13 21:47:48 +0000 2018\",\"id\":1073333693979246592,\"id_str\":\"1073333693979246592\",\"text\":\"meu pai est\\\\u00e1 sentando na rua tomando cerveja no ar livre enquanto eu estou deitada morrendo de c\\\\u00f3lica e dor nas costas, mt tranquila\",\"truncated\":false,\"entities\":{\"hashtags\":[],\"symbols\":[],\"user_mentions\":[],\"urls\":[]},\"metadata\":{\"iso_language_code\":\"pt\",\"result_type\":\"recent\"},\"source\":\"\\\\u003ca href=\\\\\"http:\\\\/\\\\/twitter.com\\\\/download\\\\/iphone\\\\\" rel=\\\\\"nofollow\\\\\"\\\\u003eTwitter for iPhone\\\\u003c\\\\/a\\\\u003e\",\"in_reply_to_status_id\":null,\"in_reply_to_status_id_str\":null,\"in_reply_to_user_id\":null,\"in_reply_to_user_id_str\":null,\"in_reply_to_screen_name\":null,\"user\":{\"id\":781653441336737792,\"id_str\":\"781653441336737792\",\"name\":\".\",\"screen_name\":\"EmanuelleAraj16\",\"location\":\"Belo Horizonte, Brasil\",\"description\":\"\",\"url\":null,\"entities\":{\"description\":{\"urls\":[]}},\"protected\":false,\"followers_count\":2333,\"friends_count\":376,\"listed_count\":0,\"created_at\":\"Fri Sep 30 00:34:37 +0000 2016\",\"favourites_count\":6211,\"utc_offset\":null,\"time_zone\":null,\"geo_enabled\":false,\"verified\":false,\"statuses_count\":14905,\"lang\":\"pt\",\"contributors_enabled\":false,\"is_translator\":false,\"is_translation_enabled\":false,\"profile_background_color\":\"F5F8FA\",\"profile_background_image_url\":null,\"profile_background_image_url_https\":null,\"profile_background_tile\":false,\"profile_image_url\":\"http:\\\\/\\\\/pbs.twimg.com\\\\/profile_images\\\\/1071925239809015808\\\\/sooTAaw9_normal.jpg\",\"profile_image_url_https\":\"https:\\\\/\\\\/pbs.twimg.com\\\\/profile_images\\\\/1071925239809015808\\\\/sooTAaw9_normal.jpg\",\"profile_link_color\":\"1DA1F2\",\"profile_sidebar_border_color\":\"C0DEED\",\"profile_sidebar_fill_color\":\"DDEEF6\",\"profile_text_color\":\"333333\",\"profile_use_background_image\":true,\"has_extended_profile\":true,\"default_profile\":true,\"default_profile_image\":false,\"following\":false,\"follow_request_sent\":false,\"notifications\":false,\"translator_type\":\"none\"},\"geo\":null,\"coordinates\":null,\"place\":null,\"contributors\":null,\"is_quote_status\":false,\"retweet_count\":0,\"favorite_count\":0,\"favorited\":false,\"retweeted\":false,\"lang\":\"pt\"},{\"created_at\":\"Thu Dec 13 21:47:48 +0000 2018\",\"id\":1073333691781402624,\"id_str\":\"1073333691781402624\",\"text\":\"Giovanni vai fazer a boa hoje e pagar uma cerveja no patas kkkkkkk\",\"truncated\":false,\"entities\":{\"hashtags\":[],\"symbols\":[],\"user_mentions\":[],\"urls\":[]},\"metadata\":{\"iso_language_code\":\"pt\",\"result_type\":\"recent\"},\"source\":\"\\\\u003ca href=\\\\\"http:\\\\/\\\\/twitter.com\\\\/download\\\\/iphone\\\\\" rel=\\\\\"nofollow\\\\\"\\\\u003eTwitter for iPhone\\\\u003c\\\\/a\\\\u003e\",\"in_reply_to_status_id\":null,\"in_reply_to_status_id_str\":null,\"in_reply_to_user_id\":null,\"in_reply_to_user_id_str\":null,\"in_reply_to_screen_name\":null,\"user\":{\"id\":3743785636,\"id_str\":\"3743785636\",\"name\":\"beatriz\",\"screen_name\":\"biassoliveira\",\"location\":\"\",\"description\":\"\",\"url\":null,\"entities\":{\"description\":{\"urls\":[]}},\"protected\":false,\"followers_count\":589,\"friends_count\":436,\"listed_count\":2,\"created_at\":\"Tue Sep 22 23:46:27 +0000 2015\",\"favourites_count\":12491,\"utc_offset\":null,\"time_zone\":null,\"geo_enabled\":false,\"verified\":false,\"statuses_count\":11412,\"lang\":\"pt\",\"contributors_enabled\":false,\"is_translator\":false,\"is_translation_enabled\":false,\"profile_background_color\":\"000000\",\"profile_background_image_url\":\"http:\\\\/\\\\/abs.twimg.com\\\\/images\\\\/themes\\\\/theme1\\\\/bg.png\",\"profile_background_image_url_https\":\"https:\\\\/\\\\/abs.twimg.com\\\\/images\\\\/themes\\\\/theme1\\\\/bg.png\",\"profile_background_tile\":false,\"profile_image_url\":\"http:\\\\/\\\\/pbs.twimg.com\\\\/profile_images\\\\/1072582636751781889\\\\/U8ffJvwh_normal.jpg\",\"profile_image_url_https\":\"https:\\\\/\\\\/pbs.twimg.com\\\\/profile_images\\\\/1072582636751781889\\\\/U8ffJvwh_normal.jpg\",\"profile_banner_url\":\"https:\\\\/\\\\/pbs.twimg.com\\\\/profile_banners\\\\/3743785636\\\\/1544559068\",\"profile_link_color\":\"ABB8C2\",\"profile_sidebar_border_color\":\"000000\",\"profile_sidebar_fill_color\":\"000000\",\"profile_text_color\":\"000000\",\"profile_use_background_image\":false,\"has_extended_profile\":false,\"default_profile\":false,\"default_profile_image\":false,\"following\":false,\"follow_request_sent\":false,\"notifications\":false,\"translator_type\":\"none\"},\"geo\":null,\"coordinates\":null,\"place\":null,\"contributors\":null,\"is_quote_status\":false,\"retweet_count\":0,\"favorite_count\":0,\"favorited\":false,\"retweeted\":false,\"lang\":\"pt\"},{\"created_at\":\"Thu Dec 13 21:47:38 +0000 2018\",\"id\":1073333652510126080,\"id_str\":\"1073333652510126080\",\"text\":\"Achei que ia beber hj porem so tenho amigo desanimado que nao entende que todo dia eh dia de beber cerveja quando se ta de ferias\",\"truncated\":false,\"entities\":{\"hashtags\":[],\"symbols\":[],\"user_mentions\":[],\"urls\":[]},\"metadata\":{\"iso_language_code\":\"pt\",\"result_type\":\"recent\"},\"source\":\"\\\\u003ca href=\\\\\"http:\\\\/\\\\/twitter.com\\\\/download\\\\/iphone\\\\\" rel=\\\\\"nofollow\\\\\"\\\\u003eTwitter for iPhone\\\\u003c\\\\/a\\\\u003e\",\"in_reply_to_status_id\":null,\"in_reply_to_status_id_str\":null,\"in_reply_to_user_id\":null,\"in_reply_to_user_id_str\":null,\"in_reply_to_screen_name\":null,\"user\":{\"id\":1059146712,\"id_str\":\"1059146712\",\"name\":\"Victoria Lousada\",\"screen_name\":\"victorialousada\",\"location\":\"\",\"description\":\"\",\"url\":null,\"entities\":{\"description\":{\"urls\":[]}},\"protected\":false,\"followers_count\":359,\"friends_count\":172,\"listed_count\":1,\"created_at\":\"Fri Jan 04 00:39:35 +0000 2013\",\"favourites_count\":2691,\"utc_offset\":null,\"time_zone\":null,\"geo_enabled\":true,\"verified\":false,\"statuses_count\":20203,\"lang\":\"pt\",\"contributors_enabled\":false,\"is_translator\":false,\"is_translation_enabled\":false,\"profile_background_color\":\"131516\",\"profile_background_image_url\":\"http:\\\\/\\\\/abs.twimg.com\\\\/images\\\\/themes\\\\/theme14\\\\/bg.gif\",\"profile_background_image_url_https\":\"https:\\\\/\\\\/abs.twimg.com\\\\/images\\\\/themes\\\\/theme14\\\\/bg.gif\",\"profile_background_tile\":true,\"profile_image_url\":\"http:\\\\/\\\\/pbs.twimg.com\\\\/profile_images\\\\/1067348507118501888\\\\/jrDe8k8Z_normal.jpg\",\"profile_image_url_https\":\"https:\\\\/\\\\/pbs.twimg.com\\\\/profile_images\\\\/1067348507118501888\\\\/jrDe8k8Z_normal.jpg\",\"profile_banner_url\":\"https:\\\\/\\\\/pbs.twimg.com\\\\/profile_banners\\\\/1059146712\\\\/1501903347\",\"profile_link_color\":\"009999\",\"profile_sidebar_border_color\":\"EEEEEE\",\"profile_sidebar_fill_color\":\"EFEFEF\",\"profile_text_color\":\"333333\",\"profile_use_background_image\":true,\"has_extended_profile\":false,\"default_profile\":false,\"default_profile_image\":false,\"following\":false,\"follow_request_sent\":false,\"notifications\":false,\"translator_type\":\"none\"},\"geo\":null,\"coordinates\":null,\"place\":null,\"contributors\":null,\"is_quote_status\":false,\"retweet_count\":0,\"favorite_count\":0,\"favorited\":false,\"retweeted\":false,\"lang\":\"pt\"},{\"created_at\":\"Thu Dec 13 21:47:34 +0000 2018\",\"id\":1073333632637591553,\"id_str\":\"1073333632637591553\",\"text\":\"c\\\\u00ea tem um jeito doce, o seu olhar \\\\u00e9 doce \\\\u00e9 doce, mas gosta de buteco e de cerveja de garrafa e nunca ligou pra toda fuma\\\\u00e7a que eu fa\\\\u00e7o\",\"truncated\":false,\"entities\":{\"hashtags\":[],\"symbols\":[],\"user_mentions\":[],\"urls\":[]},\"metadata\":{\"iso_language_code\":\"pt\",\"result_type\":\"recent\"},\"source\":\"\\\\u003ca href=\\\\\"http:\\\\/\\\\/twitter.com\\\\/download\\\\/android\\\\\" rel=\\\\\"nofollow\\\\\"\\\\u003eTwitter for Android\\\\u003c\\\\/a\\\\u003e\",\"in_reply_to_status_id\":null,\"in_reply_to_status_id_str\":null,\"in_reply_to_user_id\":null,\"in_reply_to_user_id_str\":null,\"in_reply_to_screen_name\":null,\"user\":{\"id\":948627353386848256,\"id_str\":\"948627353386848256\",\"name\":\"\\\\ud83d\\\\udc28 mari ou mary \\\\ud83d\\\\udc28\",\"screen_name\":\"_marioumary\",\"location\":\"Belo Horizonte, Brasil\",\"description\":\"gosto de buteco e de cerveja de garrafa\",\"url\":null,\"entities\":{\"description\":{\"urls\":[]}},\"protected\":false,\"followers_count\":614,\"friends_count\":465,\"listed_count\":1,\"created_at\":\"Wed Jan 03 18:49:20 +0000 2018\",\"favourites_count\":6247,\"utc_offset\":null,\"time_zone\":null,\"geo_enabled\":false,\"verified\":false,\"statuses_count\":8721,\"lang\":\"pt\",\"contributors_enabled\":false,\"is_translator\":false,\"is_translation_enabled\":false,\"profile_background_color\":\"000000\",\"profile_background_image_url\":\"http:\\\\/\\\\/abs.twimg.com\\\\/images\\\\/themes\\\\/theme1\\\\/bg.png\",\"profile_background_image_url_https\":\"https:\\\\/\\\\/abs.twimg.com\\\\/images\\\\/themes\\\\/theme1\\\\/bg.png\",\"profile_background_tile\":false,\"profile_image_url\":\"http:\\\\/\\\\/pbs.twimg.com\\\\/profile_images\\\\/1068496684148277248\\\\/8De54rnL_normal.jpg\",\"profile_image_url_https\":\"https:\\\\/\\\\/pbs.twimg.com\\\\/profile_images\\\\/1068496684148277248\\\\/8De54rnL_normal.jpg\",\"profile_banner_url\":\"https:\\\\/\\\\/pbs.twimg.com\\\\/profile_banners\\\\/948627353386848256\\\\/1542807024\",\"profile_link_color\":\"E81C4F\",\"profile_sidebar_border_color\":\"000000\",\"profile_sidebar_fill_color\":\"000000\",\"profile_text_color\":\"000000\",\"profile_use_background_image\":false,\"has_extended_profile\":true,\"default_profile\":false,\"default_profile_image\":false,\"following\":false,\"follow_request_sent\":false,\"notifications\":false,\"translator_type\":\"none\"},\"geo\":null,\"coordinates\":null,\"place\":null,\"contributors\":null,\"is_quote_status\":false,\"retweet_count\":0,\"favorite_count\":0,\"favorited\":false,\"retweeted\":false,\"lang\":\"pt\"},{\"created_at\":\"Thu Dec 13 21:47:33 +0000 2018\",\"id\":1073333629516951553,\"id_str\":\"1073333629516951553\",\"text\":\"RT @juuvelasco16: Eu n\\\\u00e3o consigo gostar de cerveja.\",\"truncated\":false,\"entities\":{\"hashtags\":[],\"symbols\":[],\"user_mentions\":[{\"screen_name\":\"juuvelasco16\",\"name\":\"xuxu master \\\\ud83d\\\\udc51\",\"id\":2883960127,\"id_str\":\"2883960127\",\"indices\":[3,16]}],\"urls\":[]},\"metadata\":{\"iso_language_code\":\"pt\",\"result_type\":\"recent\"},\"source\":\"\\\\u003ca href=\\\\\"http:\\\\/\\\\/twitter.com\\\\/download\\\\/android\\\\\" rel=\\\\\"nofollow\\\\\"\\\\u003eTwitter for Android\\\\u003c\\\\/a\\\\u003e\",\"in_reply_to_status_id\":null,\"in_reply_to_status_id_str\":null,\"in_reply_to_user_id\":null,\"in_reply_to_user_id_str\":null,\"in_reply_to_screen_name\":null,\"user\":{\"id\":995671563214249984,\"id_str\":\"995671563214249984\",\"name\":\"M\\\\u00e3e de 2..\",\"screen_name\":\"Taiza05066244\",\"location\":\"Hon\\\\u00f3rio Gurgel\",\"description\":\"Yan Alexandre eterno , na eternidade vamos ser ver e mata essa saudades..\\\\ud83d\\\\udc94\\\\ud83d\\\\udc8f\\\\ud83d\\\\udc91\\\\ud83d\\\\udc8f\\\\ud83d\\\\udc8f\\\\ud83d\\\\udc8f\\\\nM\\\\u00e3e da p\\\\u00e9rola Alexandra e Thalysson Lucas.. ME ATURA QUEM QUISER\",\"url\":null,\"entities\":{\"description\":{\"urls\":[]}},\"protected\":false,\"followers_count\":764,\"friends_count\":896,\"listed_count\":2,\"created_at\":\"Sun May 13 14:26:14 +0000 2018\",\"favourites_count\":6704,\"utc_offset\":null,\"time_zone\":null,\"geo_enabled\":true,\"verified\":false,\"statuses_count\":7150,\"lang\":\"pt\",\"contributors_enabled\":false,\"is_translator\":false,\"is_translation_enabled\":false,\"profile_background_color\":\"F5F8FA\",\"profile_background_image_url\":null,\"profile_background_image_url_https\":null,\"profile_background_tile\":false,\"profile_image_url\":\"http:\\\\/\\\\/pbs.twimg.com\\\\/profile_images\\\\/1003686442168717313\\\\/PjivYA_2_normal.jpg\",\"profile_image_url_https\":\"https:\\\\/\\\\/pbs.twimg.com\\\\/profile_images\\\\/1003686442168717313\\\\/PjivYA_2_normal.jpg\",\"profile_banner_url\":\"https:\\\\/\\\\/pbs.twimg.com\\\\/profile_banners\\\\/995671563214249984\\\\/1527260266\",\"profile_link_color\":\"1DA1F2\",\"profile_sidebar_border_color\":\"C0DEED\",\"profile_sidebar_fill_color\":\"DDEEF6\",\"profile_text_color\":\"333333\",\"profile_use_background_image\":true,\"has_extended_profile\":true,\"default_profile\":true,\"default_profile_image\":false,\"following\":false,\"follow_request_sent\":false,\"notifications\":false,\"translator_type\":\"none\"},\"geo\":null,\"coordinates\":null,\"place\":null,\"contributors\":null,\"retweeted_status\":{\"created_at\":\"Thu Dec 13 19:52:28 +0000 2018\",\"id\":1073304666480480256,\"id_str\":\"1073304666480480256\",\"text\":\"Eu n\\\\u00e3o consigo gostar de cerveja.\",\"truncated\":false,\"entities\":{\"hashtags\":[],\"symbols\":[],\"user_mentions\":[],\"urls\":[]},\"metadata\":{\"iso_language_code\":\"pt\",\"result_type\":\"recent\"},\"source\":\"\\\\u003ca href=\\\\\"http:\\\\/\\\\/twitter.com\\\\/download\\\\/android\\\\\" rel=\\\\\"nofollow\\\\\"\\\\u003eTwitter for Android\\\\u003c\\\\/a\\\\u003e\",\"in_reply_to_status_id\":null,\"in_reply_to_status_id_str\":null,\"in_reply_to_user_id\":null,\"in_reply_to_user_id_str\":null,\"in_reply_to_screen_name\":null,\"user\":{\"id\":2883960127,\"id_str\":\"2883960127\",\"name\":\"xuxu master \\\\ud83d\\\\udc51\",\"screen_name\":\"juuvelasco16\",\"location\":\"Pietro Velasco\",\"description\":\"SEJA SUA BASE , SEJA SUA \\\\u00c2NCORA.   @Beabelaxuxu \\\\u2665\",\"url\":\"https:\\\\/\\\\/t.co\\\\/IwIiY80Q9O\",\"entities\":{\"url\":{\"urls\":[{\"url\":\"https:\\\\/\\\\/t.co\\\\/IwIiY80Q9O\",\"expanded_url\":\"http:\\\\/\\\\/www.facebook.com\\\\/juuvelasco16\",\"display_url\":\"facebook.com\\\\/juuvelasco16\",\"indices\":[0,23]}]},\"description\":{\"urls\":[]}},\"protected\":false,\"followers_count\":615,\"friends_count\":522,\"listed_count\":1,\"created_at\":\"Thu Oct 30 21:53:12 +0000 2014\",\"favourites_count\":4492,\"utc_offset\":null,\"time_zone\":null,\"geo_enabled\":true,\"verified\":false,\"statuses_count\":23576,\"lang\":\"pt\",\"contributors_enabled\":false,\"is_translator\":false,\"is_translation_enabled\":false,\"profile_background_color\":\"000000\",\"profile_background_image_url\":\"http:\\\\/\\\\/abs.twimg.com\\\\/images\\\\/themes\\\\/theme11\\\\/bg.gif\",\"profile_background_image_url_https\":\"https:\\\\/\\\\/abs.twimg.com\\\\/images\\\\/themes\\\\/theme11\\\\/bg.gif\",\"profile_background_tile\":false,\"profile_image_url\":\"http:\\\\/\\\\/pbs.twimg.com\\\\/profile_images\\\\/1059759075272069120\\\\/3iYVs5xw_normal.jpg\",\"profile_image_url_https\":\"https:\\\\/\\\\/pbs.twimg.com\\\\/profile_images\\\\/1059759075272069120\\\\/3iYVs5xw_normal.jpg\",\"profile_banner_url\":\"https:\\\\/\\\\/pbs.twimg.com\\\\/profile_banners\\\\/2883960127\\\\/1539639864\",\"profile_link_color\":\"F58EA8\",\"profile_sidebar_border_color\":\"000000\",\"profile_sidebar_fill_color\":\"000000\",\"profile_text_color\":\"000000\",\"profile_use_background_image\":false,\"has_extended_profile\":true,\"default_profile\":false,\"default_profile_image\":false,\"following\":false,\"follow_request_sent\":false,\"notifications\":false,\"translator_type\":\"none\"},\"geo\":null,\"coordinates\":null,\"place\":{\"id\":\"97bcdfca1a2dca59\",\"url\":\"https:\\\\/\\\\/api.twitter.com\\\\/1.1\\\\/geo\\\\/id\\\\/97bcdfca1a2dca59.json\",\"place_type\":\"city\",\"name\":\"Rio de Janeiro\",\"full_name\":\"Rio de Janeiro, Brazil\",\"country_code\":\"BR\",\"country\":\"Brazil\",\"contained_within\":[],\"bounding_box\":{\"type\":\"Polygon\",\"coordinates\":[[[-43.795449,-23.08302],[-43.0877068,-23.08302],[-43.0877068,-22.7398234],[-43.795449,-22.7398234]]]},\"attributes\":{}},\"contributors\":null,\"is_quote_status\":false,\"retweet_count\":5,\"favorite_count\":0,\"favorited\":false,\"retweeted\":false,\"lang\":\"pt\"},\"is_quote_status\":false,\"retweet_count\":5,\"favorite_count\":0,\"favorited\":false,\"retweeted\":false,\"lang\":\"pt\"},{\"created_at\":\"Thu Dec 13 21:47:33 +0000 2018\",\"id\":1073333628023857152,\"id_str\":\"1073333628023857152\",\"text\":\"RT @lettrdg: Era s\\\\u00f3 uma cerveja bem gelada...\",\"truncated\":false,\"entities\":{\"hashtags\":[],\"symbols\":[],\"user_mentions\":[{\"screen_name\":\"lettrdg\",\"name\":\"lr\",\"id\":1019619468,\"id_str\":\"1019619468\",\"indices\":[3,11]}],\"urls\":[]},\"metadata\":{\"iso_language_code\":\"pt\",\"result_type\":\"recent\"},\"source\":\"\\\\u003ca href=\\\\\"http:\\\\/\\\\/twitter.com\\\\/download\\\\/android\\\\\" rel=\\\\\"nofollow\\\\\"\\\\u003eTwitter for Android\\\\u003c\\\\/a\\\\u003e\",\"in_reply_to_status_id\":null,\"in_reply_to_status_id_str\":null,\"in_reply_to_user_id\":null,\"in_reply_to_user_id_str\":null,\"in_reply_to_screen_name\":null,\"user\":{\"id\":749672880561131520,\"id_str\":\"749672880561131520\",\"name\":\"Fernanda\",\"screen_name\":\"Fernaandamooura\",\"location\":\"\",\"description\":\"\",\"url\":\"https:\\\\/\\\\/t.co\\\\/KM2gC3WX2S\",\"entities\":{\"url\":{\"urls\":[{\"url\":\"https:\\\\/\\\\/t.co\\\\/KM2gC3WX2S\",\"expanded_url\":\"https:\\\\/\\\\/www.instagram.com\\\\/pxnanda__\",\"display_url\":\"instagram.com\\\\/pxnanda__\",\"indices\":[0,23]}]},\"description\":{\"urls\":[]}},\"protected\":false,\"followers_count\":616,\"friends_count\":385,\"listed_count\":0,\"created_at\":\"Sun Jul 03 18:35:17 +0000 2016\",\"favourites_count\":4870,\"utc_offset\":null,\"time_zone\":null,\"geo_enabled\":true,\"verified\":false,\"statuses_count\":10749,\"lang\":\"pt\",\"contributors_enabled\":false,\"is_translator\":false,\"is_translation_enabled\":false,\"profile_background_color\":\"000000\",\"profile_background_image_url\":\"http:\\\\/\\\\/abs.twimg.com\\\\/images\\\\/themes\\\\/theme1\\\\/bg.png\",\"profile_background_image_url_https\":\"https:\\\\/\\\\/abs.twimg.com\\\\/images\\\\/themes\\\\/theme1\\\\/bg.png\",\"profile_background_tile\":false,\"profile_image_url\":\"http:\\\\/\\\\/pbs.twimg.com\\\\/profile_images\\\\/1025960539732762624\\\\/W11PtVxL_normal.jpg\",\"profile_image_url_https\":\"https:\\\\/\\\\/pbs.twimg.com\\\\/profile_images\\\\/1025960539732762624\\\\/W11PtVxL_normal.jpg\",\"profile_banner_url\":\"https:\\\\/\\\\/pbs.twimg.com\\\\/profile_banners\\\\/749672880561131520\\\\/1543810912\",\"profile_link_color\":\"F58EA8\",\"profile_sidebar_border_color\":\"000000\",\"profile_sidebar_fill_color\":\"000000\",\"profile_text_color\":\"000000\",\"profile_use_background_image\":false,\"has_extended_profile\":true,\"default_profile\":false,\"default_profile_image\":false,\"following\":false,\"follow_request_sent\":false,\"notifications\":false,\"translator_type\":\"none\"},\"geo\":null,\"coordinates\":null,\"place\":null,\"contributors\":null,\"retweeted_status\":{\"created_at\":\"Thu Dec 13 19:34:37 +0000 2018\",\"id\":1073300173676298240,\"id_str\":\"1073300173676298240\",\"text\":\"Era s\\\\u00f3 uma cerveja bem gelada...\",\"truncated\":false,\"entities\":{\"hashtags\":[],\"symbols\":[],\"user_mentions\":[],\"urls\":[]},\"metadata\":{\"iso_language_code\":\"pt\",\"result_type\":\"recent\"},\"source\":\"\\\\u003ca href=\\\\\"http:\\\\/\\\\/twitter.com\\\\/download\\\\/iphone\\\\\" rel=\\\\\"nofollow\\\\\"\\\\u003eTwitter for iPhone\\\\u003c\\\\/a\\\\u003e\",\"in_reply_to_status_id\":null,\"in_reply_to_status_id_str\":null,\"in_reply_to_user_id\":null,\"in_reply_to_user_id_str\":null,\"in_reply_to_screen_name\":null,\"user\":{\"id\":1019619468,\"id_str\":\"1019619468\",\"name\":\"lr\",\"screen_name\":\"lettrdg\",\"location\":\"Vila da Penha\",\"description\":\"\",\"url\":\"https:\\\\/\\\\/t.co\\\\/fJR45jbZxs\",\"entities\":{\"url\":{\"urls\":[{\"url\":\"https:\\\\/\\\\/t.co\\\\/fJR45jbZxs\",\"expanded_url\":\"http:\\\\/\\\\/Instagram.com\\\\/_lettrdg\",\"display_url\":\"Instagram.com\\\\/_lettrdg\",\"indices\":[0,23]}]},\"description\":{\"urls\":[]}},\"protected\":false,\"followers_count\":700,\"friends_count\":511,\"listed_count\":1,\"created_at\":\"Tue Dec 18 12:04:10 +0000 2012\",\"favourites_count\":965,\"utc_offset\":null,\"time_zone\":null,\"geo_enabled\":false,\"verified\":false,\"statuses_count\":7738,\"lang\":\"pt\",\"contributors_enabled\":false,\"is_translator\":false,\"is_translation_enabled\":false,\"profile_background_color\":\"A8A7A1\",\"profile_background_image_url\":\"http:\\\\/\\\\/abs.twimg.com\\\\/images\\\\/themes\\\\/theme3\\\\/bg.gif\",\"profile_background_image_url_https\":\"https:\\\\/\\\\/abs.twimg.com\\\\/images\\\\/themes\\\\/theme3\\\\/bg.gif\",\"profile_background_tile\":false,\"profile_image_url\":\"http:\\\\/\\\\/pbs.twimg.com\\\\/profile_images\\\\/1052011904087089152\\\\/ENx8qcj-_normal.jpg\",\"profile_image_url_https\":\"https:\\\\/\\\\/pbs.twimg.com\\\\/profile_images\\\\/1052011904087089152\\\\/ENx8qcj-_normal.jpg\",\"profile_banner_url\":\"https:\\\\/\\\\/pbs.twimg.com\\\\/profile_banners\\\\/1019619468\\\\/1533769347\",\"profile_link_color\":\"1B95E0\",\"profile_sidebar_border_color\":\"FFFFFF\",\"profile_sidebar_fill_color\":\"E3E2DE\",\"profile_text_color\":\"634047\",\"profile_use_background_image\":false,\"has_extended_profile\":false,\"default_profile\":false,\"default_profile_image\":false,\"following\":false,\"follow_request_sent\":false,\"notifications\":false,\"translator_type\":\"none\"},\"geo\":null,\"coordinates\":null,\"place\":null,\"contributors\":null,\"is_quote_status\":false,\"retweet_count\":15,\"favorite_count\":4,\"favorited\":false,\"retweeted\":false,\"lang\":\"pt\"},\"is_quote_status\":false,\"retweet_count\":15,\"favorite_count\":0,\"favorited\":false,\"retweeted\":false,\"lang\":\"pt\"}],\"search_metadata\":{\"completed_in\":0.046,\"max_id\":1073333793518428161,\"max_id_str\":\"1073333793518428161\",\"query\":\"cerveja\",\"refresh_url\":\"?since_id=1073333793518428161&q=cerveja&include_entities=1\",\"count\":15,\"since_id\":0,\"since_id_str\":\"0\"}}')"
      ]
     },
     "execution_count": 23,
     "metadata": {},
     "output_type": "execute_result"
    }
   ],
   "source": [
    "type(request)\n",
    "request"
   ]
  },
  {
   "cell_type": "code",
   "execution_count": 26,
   "metadata": {},
   "outputs": [],
   "source": [
    "\"\"\"\n",
    "Como o retorno da API do Twitter é um pouco diferente foi necessário a decodificação de \n",
    "apenas uma das partes da tupla retornada\n",
    "    type(request[0]) = httplib2.Response\n",
    "    type(request[1]) = bytes\n",
    "\"\"\"\n",
    "objeto_json = json.loads(request[1].decode())"
   ]
  },
  {
   "cell_type": "code",
   "execution_count": 29,
   "metadata": {},
   "outputs": [
    {
     "data": {
      "text/plain": [
       "httplib2.Response"
      ]
     },
     "execution_count": 29,
     "metadata": {},
     "output_type": "execute_result"
    }
   ],
   "source": [
    "type(request[0])"
   ]
  },
  {
   "cell_type": "code",
   "execution_count": null,
   "metadata": {
    "collapsed": true
   },
   "outputs": [],
   "source": []
  },
  {
   "cell_type": "code",
   "execution_count": null,
   "metadata": {
    "collapsed": true
   },
   "outputs": [],
   "source": []
  }
 ],
 "metadata": {
  "kernelspec": {
   "display_name": "Python 3",
   "language": "python",
   "name": "python3"
  },
  "language_info": {
   "codemirror_mode": {
    "name": "ipython",
    "version": 3
   },
   "file_extension": ".py",
   "mimetype": "text/x-python",
   "name": "python",
   "nbconvert_exporter": "python",
   "pygments_lexer": "ipython3",
   "version": "3.6.1"
  }
 },
 "nbformat": 4,
 "nbformat_minor": 2
}
