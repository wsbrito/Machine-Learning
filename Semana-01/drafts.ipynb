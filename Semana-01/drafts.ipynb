{
 "cells": [
  {
   "cell_type": "code",
   "execution_count": 11,
   "metadata": {},
   "outputs": [
    {
     "name": "stdout",
     "output_type": "stream",
     "text": [
      "Informe o nome: Raquel\n",
      "Você informou:  Raquel\n"
     ]
    },
    {
     "data": {
      "text/plain": [
       "str"
      ]
     },
     "execution_count": 11,
     "metadata": {},
     "output_type": "execute_result"
    }
   ],
   "source": [
    "nome = input('Informe o nome: ')\n",
    "print('Você informou: ',nome)\n",
    "type(nome)"
   ]
  },
  {
   "cell_type": "code",
   "execution_count": 6,
   "metadata": {},
   "outputs": [
    {
     "data": {
      "text/plain": [
       "True"
      ]
     },
     "execution_count": 6,
     "metadata": {},
     "output_type": "execute_result"
    }
   ],
   "source": [
    "1 != 2"
   ]
  },
  {
   "cell_type": "code",
   "execution_count": 18,
   "metadata": {},
   "outputs": [
    {
     "name": "stdout",
     "output_type": "stream",
     "text": [
      "Informe um texto: Puta que pariu esse muleque chato!\n",
      "Letra par: u\n",
      "Letra par: a\n",
      "Letra par: q\n",
      "Letra par: e\n",
      "Letra par: p\n",
      "Letra par: r\n",
      "Letra par: u\n",
      "Letra par: e\n",
      "Letra par: s\n",
      "Letra par:  \n",
      "Letra par: u\n",
      "Letra par: e\n",
      "Letra par: u\n",
      "Letra par:  \n",
      "Letra par: h\n",
      "Letra par: t\n",
      "Letra par: !\n"
     ]
    }
   ],
   "source": [
    "minha_string = input('Informe um texto: ')\n",
    "i = 1\n",
    "for letra in minha_string:\n",
    "    if i % 2 == 0:\n",
    "        print('Letra par:',letra)\n",
    "    i += 1"
   ]
  },
  {
   "cell_type": "code",
   "execution_count": 19,
   "metadata": {},
   "outputs": [
    {
     "data": {
      "text/plain": [
       "'uaqeprues ueu ht!'"
      ]
     },
     "execution_count": 19,
     "metadata": {},
     "output_type": "execute_result"
    }
   ],
   "source": [
    "# vale para varrer listas também\n",
    "minha_string[1:len(minha_string):2]"
   ]
  },
  {
   "cell_type": "code",
   "execution_count": 20,
   "metadata": {},
   "outputs": [
    {
     "data": {
      "text/plain": [
       "'!otahc euqelum esse uirap euq atuP'"
      ]
     },
     "execution_count": 20,
     "metadata": {},
     "output_type": "execute_result"
    }
   ],
   "source": [
    "# Invertendo uma lista/string\n",
    "minha_string[::-1]"
   ]
  },
  {
   "cell_type": "code",
   "execution_count": 23,
   "metadata": {},
   "outputs": [
    {
     "name": "stdout",
     "output_type": "stream",
     "text": [
      "Número... 4\n",
      "i = 1\n",
      "i = 2\n",
      "i = 3\n",
      "i = 4\n"
     ]
    }
   ],
   "source": [
    "numero = input('Número... ')\n",
    "i = 1\n",
    "while i <= int(numero):\n",
    "    print('i =',i)\n",
    "    i += 1"
   ]
  },
  {
   "cell_type": "code",
   "execution_count": 6,
   "metadata": {},
   "outputs": [
    {
     "name": "stdout",
     "output_type": "stream",
     "text": [
      "Informe A: 10\n",
      "Informe B: 0\n",
      "Ocorreu um erro division by zero\n",
      "Resultado =  0\n"
     ]
    }
   ],
   "source": [
    "sa = input('Informe A: ')\n",
    "sb = input('Informe B: ')\n",
    "# Tratando exceções\n",
    "try:\n",
    "    a = int(sa)\n",
    "    b = int(sb)\n",
    "    c = a / b\n",
    "except Exception as erro:\n",
    "    c = 0\n",
    "    print('Ocorreu um erro',erro)\n",
    "    \n",
    "    \n",
    "print('Resultado = ',c)    "
   ]
  },
  {
   "cell_type": "code",
   "execution_count": null,
   "metadata": {
    "collapsed": true
   },
   "outputs": [],
   "source": []
  }
 ],
 "metadata": {
  "kernelspec": {
   "display_name": "Python 3",
   "language": "python",
   "name": "python3"
  },
  "language_info": {
   "codemirror_mode": {
    "name": "ipython",
    "version": 3
   },
   "file_extension": ".py",
   "mimetype": "text/x-python",
   "name": "python",
   "nbconvert_exporter": "python",
   "pygments_lexer": "ipython3",
   "version": "3.6.1"
  }
 },
 "nbformat": 4,
 "nbformat_minor": 2
}
